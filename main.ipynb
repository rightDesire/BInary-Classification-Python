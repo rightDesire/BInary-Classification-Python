{
 "cells": [
  {
   "cell_type": "markdown",
   "id": "358cd633-2449-41c6-85c7-d5f9dcdd7249",
   "metadata": {},
   "source": [
    "# Запуск сторонних функций"
   ]
  },
  {
   "cell_type": "code",
   "id": "989d575925b3a2d2",
   "metadata": {},
   "source": [
    "%run utils/read_data.py\n",
    "%run utils/prepare_data.py\n",
    "%run utils/map_feature\n",
    "%run utils/cost_function_reg\n",
    "%run utils/reg_analysis\n",
    "%run utils/predict\n",
    "%run utils/plot_decision_model"
   ],
   "outputs": [],
   "execution_count": null
  },
  {
   "cell_type": "markdown",
   "id": "7a99f5093dfbc0d1",
   "metadata": {},
   "source": [
    "# Инициализация данных"
   ]
  },
  {
   "cell_type": "markdown",
   "id": "643f351c8445f2f1",
   "metadata": {},
   "source": [
    "### Переменные"
   ]
  },
  {
   "cell_type": "code",
   "id": "440ac58db20cc1b2",
   "metadata": {},
   "source": [
    "num_features = 28\n",
    "lambda_ = 0.5"
   ],
   "outputs": [],
   "execution_count": null
  },
  {
   "cell_type": "markdown",
   "id": "f3ff6cfe55614741",
   "metadata": {},
   "source": [
    "### Текстовый файл"
   ]
  },
  {
   "cell_type": "code",
   "id": "2b509658570ebad0",
   "metadata": {},
   "source": [
    "data = read_data('data/ex2data2.txt')"
   ],
   "outputs": [],
   "execution_count": null
  },
  {
   "cell_type": "markdown",
   "id": "8cdd8bf72c0fc757",
   "metadata": {},
   "source": [
    "# Загрузка данных"
   ]
  },
  {
   "cell_type": "code",
   "id": "b92184036dfa847a",
   "metadata": {},
   "source": [
    "m_all, m_training, m_test, X_train, y_train, X_test, y_test = prepare_data(data)"
   ],
   "outputs": [],
   "execution_count": null
  },
  {
   "cell_type": "markdown",
   "id": "4eca6924764d504b",
   "metadata": {},
   "source": [
    "# Анализ зависимостей"
   ]
  },
  {
   "cell_type": "code",
   "id": "6de240fbc9c43ab5",
   "metadata": {},
   "source": [
    "import numpy as np\n",
    "from scipy.optimize import minimize\n",
    "from matplotlib import pyplot as plt\n",
    "\n",
    "X_train = map_feature(X_train[:, 0], X_train[:, 1], num_features)\n",
    "X_test = map_feature(X_test[:, 0], X_test[:, 1], num_features)\n",
    "\n",
    "initial_theta = np.zeros(X_train.shape[1])\n",
    "\n",
    "res = minimize(fun=cost_function_reg,\n",
    "               x0=initial_theta,\n",
    "               args=(X_train, y_train, lambda_),\n",
    "               method='BFGS',\n",
    "               jac=True,\n",
    "               options={'maxiter': 400})\n",
    "\n",
    "theta = res.x\n",
    "\n",
    "lambda_values, J_train, J_test = reg_analysis(X_train, y_train, X_test, y_test)\n",
    "\n",
    "plt.figure()\n",
    "plt.plot(lambda_values, J_train, '-b', linewidth=2, markersize=8, label='СКО при обучающей выборке')\n",
    "plt.plot(lambda_values, J_test, '-r', linewidth=2, markersize=8, label='СКО при тестовой выборке')\n",
    "plt.title('Зависимость СКО от lambda: обучающие и тестовые выборки')\n",
    "plt.xlabel('Lambda')\n",
    "plt.ylabel('Ошибка')\n",
    "plt.legend()\n",
    "plt.show()\n",
    "\n",
    "for i, lambda_ in enumerate(lambda_values):\n",
    "    print(f\"СКО при lambda {lambda_:.2f}: Train = {J_train[i]:.6f}, Test = {J_test[i]:.6f}\")\n"
   ],
   "outputs": [],
   "execution_count": null
  },
  {
   "cell_type": "markdown",
   "id": "389698e1e24663e4",
   "metadata": {},
   "source": [
    "# Точность обучения"
   ]
  },
  {
   "cell_type": "code",
   "id": "6e753b57aa0dba3d",
   "metadata": {},
   "source": [
    "print(f'Модель с {num_features} признаками и lambda = {lambda_}:')\n",
    "\n",
    "p_train = predict(theta, X_train)\n",
    "print(f'Точность обучения (train): {np.mean(p_train == y_train) * 100:.2f}%')\n",
    "\n",
    "p_test = predict(theta, X_test)\n",
    "print(f'Точность обучения (test): {np.mean(p_test == y_test) * 100:.2f}%')"
   ],
   "outputs": [],
   "execution_count": null
  },
  {
   "cell_type": "markdown",
   "id": "1680ff9fe452d8a7",
   "metadata": {},
   "source": [
    "# Анализ обученной модели"
   ]
  },
  {
   "cell_type": "code",
   "id": "deb9e830ffd2e2df",
   "metadata": {},
   "source": [
    "from matplotlib import pyplot as plt\n",
    "\n",
    "plt.figure()\n",
    "plot_decision_model(theta, X_train, y_train, X_train.shape[1])\n",
    "plt.title(f'Модель с {num_features} признаками и lambda = {lambda_} (Обучающая выборка)')\n",
    "plt.show()\n",
    "\n",
    "plt.figure()\n",
    "plot_decision_model(theta, X_test, y_test, X_test.shape[1])\n",
    "plt.title(f'Модель с {num_features} признаками и lambda = {lambda_} (Тестовая выборка)')\n",
    "plt.show()"
   ],
   "outputs": [],
   "execution_count": null
  }
 ],
 "metadata": {
  "kernelspec": {
   "display_name": "Python 3 (ipykernel)",
   "language": "python",
   "name": "python3"
  },
  "language_info": {
   "codemirror_mode": {
    "name": "ipython",
    "version": 3
   },
   "file_extension": ".py",
   "mimetype": "text/x-python",
   "name": "python",
   "nbconvert_exporter": "python",
   "pygments_lexer": "ipython3",
   "version": "3.12.2"
  }
 },
 "nbformat": 4,
 "nbformat_minor": 5
}
